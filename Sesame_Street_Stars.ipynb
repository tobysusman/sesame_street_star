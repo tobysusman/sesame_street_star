{
 "metadata": {
  "language_info": {
   "codemirror_mode": {
    "name": "ipython",
    "version": 3
   },
   "file_extension": ".py",
   "mimetype": "text/x-python",
   "name": "python",
   "nbconvert_exporter": "python",
   "pygments_lexer": "ipython3",
   "version": "3.8.6-final"
  },
  "orig_nbformat": 2,
  "kernelspec": {
   "name": "python3",
   "display_name": "Python 3.8.6 64-bit",
   "metadata": {
    "interpreter": {
     "hash": "d144fa90d4a329fcb5c3aa323307d0eb0945b850553210817c12573cc078f651"
    }
   }
  }
 },
 "nbformat": 4,
 "nbformat_minor": 2,
 "cells": [
  {
   "cell_type": "code",
   "execution_count": 1,
   "metadata": {},
   "outputs": [],
   "source": [
    "from bs4 import BeautifulSoup\n",
    "import requests\n",
    "import pandas as pd\n",
    "import random\n",
    "import re"
   ]
  },
  {
   "cell_type": "code",
   "execution_count": 30,
   "metadata": {
    "tags": []
   },
   "outputs": [
    {
     "output_type": "stream",
     "name": "stdout",
     "text": [
      "Peter Dinklage\n",
      "\n",
      " Peter Hayden Dinklage (/ˈdɪŋklɪdʒ/; born June 11, 1969) is an American actor and producer. He received acclaim for portraying Tyrion Lannister on the HBO television series Game of Thrones (2011—2019), for which he won the Primetime Emmy Award for Outstanding Supporting Actor in a Drama Series a record four times. He also received a Golden Globe Award in 2011 and a Screen Actors Guild Award in 2020 for the role.\n",
      "\n"
     ]
    }
   ],
   "source": [
    "url = 'https://en.wikipedia.org/wiki/List_of_guest_stars_on_Sesame_Street'\n",
    "\n",
    "response = requests.get(url)\n",
    "soup = BeautifulSoup(response.text, 'html.parser')\n",
    "table = soup.find_all('ul')\n",
    "table = table[2:-36]\n",
    "for t in table:\n",
    "    string = str(t)\n",
    "    if string.find('gallerybox') > 0:\n",
    "        table.remove(t)\n",
    "\n",
    "people_list = []\n",
    "\n",
    "\n",
    "for t in table:\n",
    "    people = t.find_all('li')\n",
    "    for p in people:\n",
    "        people_list.append(p)\n",
    "\n",
    "randmax = len(people_list)\n",
    "\n",
    "random_number_3 = random.randint(0, randmax-1)\n",
    "person_detail = people_list[random_number_3].text\n",
    "new_url = people_list[random_number_3].find('a', href = True)['href']\n",
    "\n",
    "print(re.sub(r'\\[[^]]*\\]', '', person_detail))\n",
    "\n",
    "newer_url = 'https://en.wikipedia.org/'+new_url\n",
    "\n",
    "newer_url = 'https://en.wikipedia.org/'+new_url\n",
    "\n",
    "response = requests.get(newer_url)\n",
    "soup = BeautifulSoup(response.text, 'html.parser')\n",
    "\n",
    "\n",
    "i=1\n",
    "description = '\\n'\n",
    "\n",
    "while description == '\\n':\n",
    "    description = soup.find_all('div', class_= 'mw-parser-output')[0].find_all('p')[i].text\n",
    "    i += 1\n",
    "print('\\n',re.sub(r'\\[[^]]*\\]', '', description))\n",
    "    "
   ]
  }
 ]
}